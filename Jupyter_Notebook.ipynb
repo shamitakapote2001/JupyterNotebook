{
 "cells": [
  {
   "cell_type": "markdown",
   "metadata": {},
   "source": [
    "<center>\n",
    "    <img src=\"https://s3-api.us-geo.objectstorage.softlayer.net/cf-courses-data/CognitiveClass/Logos/organization_logo/organization_logo.png\" width=\"300\" alt=\"cognitiveclass.ai logo\"  />\n",
    "</center>\n"
   ]
  },
  {
   "cell_type": "markdown",
   "metadata": {},
   "source": [
    "#### Add your code below following the instructions given in the course\n"
   ]
  },
  {
   "cell_type": "markdown",
   "metadata": {},
   "source": [
    "<h1>My Jupyter Notebook on IBM Watson Studio<h1>"
   ]
  },
  {
   "cell_type": "markdown",
   "metadata": {},
   "source": [
    "**Shamita Nitin Kapote**<br>\n",
    "I want to become a Data Scientist"
   ]
  },
  {
   "cell_type": "markdown",
   "metadata": {},
   "source": [
    "*I am interested in data science because Data science is a field that allows us to use some techniques and algorithms to extract crucial data from structured and unstructured data. We gather and analyze the data from a vast data source to find a solution to our problems and make things better. As a data scientist I will be able to solve and give better solution and communicate my solution effectively.*"
   ]
  },
  {
   "cell_type": "markdown",
   "metadata": {},
   "source": [
    "<h3>String Concatenation in Python<h3>\n",
    "We are here concatenating two strings using Python"
   ]
  },
  {
   "cell_type": "code",
   "execution_count": 3,
   "metadata": {},
   "outputs": [
    {
     "name": "stdout",
     "output_type": "stream",
     "text": [
      "Welcome to My Jupyter Notebook on IBM Watson Studio\n"
     ]
    }
   ],
   "source": [
    "a = \"Welcome to My Jupyter Notebook\"\n",
    "b = \"on IBM Watson Studio\"\n",
    "c1 = a +\" \"+b\n",
    "print(c1)"
   ]
  },
  {
   "cell_type": "markdown",
   "metadata": {},
   "source": [
    "A) Numbered Fruit List\n",
    "\n",
    "<ol>\n",
    "<li>Oranges</li>\n",
    "<li>Apples</li>\n",
    "<li>Cherry</li>\n",
    "<li>Banana</li>\n",
    "<li>Watermelon</li>\n",
    "</ol>\n",
    "\n",
    "<br>\n",
    "\n",
    "B) Horizontal Line\n",
    "\n",
    "---\n",
    "\n",
    "<br>\n",
    "\n",
    "C) Blocked Quotes\n",
    "\n",
    "<blockquote>Welcome to Jupyter Notebook on IBM Watson Studio.</blockquote>"
   ]
  },
  {
   "cell_type": "code",
   "execution_count": null,
   "metadata": {},
   "outputs": [],
   "source": []
  }
 ],
 "metadata": {
  "kernelspec": {
   "display_name": "Python",
   "language": "python",
   "name": "conda-env-python-py"
  },
  "language_info": {
   "codemirror_mode": {
    "name": "ipython",
    "version": 3
   },
   "file_extension": ".py",
   "mimetype": "text/x-python",
   "name": "python",
   "nbconvert_exporter": "python",
   "pygments_lexer": "ipython3",
   "version": "3.7.12"
  }
 },
 "nbformat": 4,
 "nbformat_minor": 4
}
